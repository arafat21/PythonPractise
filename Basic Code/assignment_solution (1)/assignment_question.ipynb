{
 "cells": [
  {
   "cell_type": "markdown",
   "metadata": {},
   "source": [
    "# Lesson 1.2: Python Basics\n",
    "## Topics Covered:\n",
    "- Syntax and Semantics\n",
    "- Variables and Data Types\n",
    "- Basic Operators (Arithmetic, Comparison, Logical)\n"
   ]
  },
  {
   "cell_type": "markdown",
   "metadata": {},
   "source": [
    "## 1. Syntax and Semantics\n",
    "\n",
    "**Question 1:** Write a Python program to print \"Hello, World!\"."
   ]
  },
  {
   "cell_type": "code",
   "execution_count": 1,
   "metadata": {},
   "outputs": [
    {
     "name": "stdout",
     "output_type": "stream",
     "text": [
      "Hello world\n"
     ]
    }
   ],
   "source": [
    "# Your code here\n",
    "print(\"Hello world\")"
   ]
  },
  {
   "cell_type": "markdown",
   "metadata": {},
   "source": [
    "**Question 2:** Write a Python program that takes a user input and prints it."
   ]
  },
  {
   "cell_type": "code",
   "execution_count": 2,
   "metadata": {},
   "outputs": [
    {
     "name": "stdin",
     "output_type": "stream",
     "text": [
      "Enter a value=  1\n"
     ]
    },
    {
     "name": "stdout",
     "output_type": "stream",
     "text": [
      "1\n"
     ]
    }
   ],
   "source": [
    "# Your code here\n",
    "val = input(\"Enter a value= \")\n",
    "print(val)"
   ]
  },
  {
   "cell_type": "markdown",
   "metadata": {},
   "source": [
    "**Question 3:** Write a Python program to check if a number is positive, negative, or zero."
   ]
  },
  {
   "cell_type": "code",
   "execution_count": 6,
   "metadata": {},
   "outputs": [
    {
     "name": "stdin",
     "output_type": "stream",
     "text": [
      "Enter a digit= 0\n"
     ]
    },
    {
     "name": "stdout",
     "output_type": "stream",
     "text": [
      "Zero\n"
     ]
    }
   ],
   "source": [
    "# Your code here\n",
    "num = int(input(\"Enter a digit=\"))\n",
    "if num == 0:\n",
    "    print(\"Zero\")\n",
    "elif num<0:\n",
    "    print(\"Negetive\")\n",
    "else:\n",
    "    print(\"Positive\")"
   ]
  },
  {
   "cell_type": "markdown",
   "metadata": {},
   "source": [
    "**Question 4:** Write a Python program to find the largest of three numbers."
   ]
  },
  {
   "cell_type": "code",
   "execution_count": 8,
   "metadata": {},
   "outputs": [
    {
     "name": "stdin",
     "output_type": "stream",
     "text": [
      "Enter a digit= 3\n",
      "Enter a digit= 7\n",
      "Enter a digit= 1\n"
     ]
    },
    {
     "name": "stdout",
     "output_type": "stream",
     "text": [
      "7.0\n"
     ]
    }
   ],
   "source": [
    "# Your code here\n",
    "num1 = float(input(\"Enter a digit=\"))\n",
    "num2 = float(input(\"Enter a digit=\"))\n",
    "num3 = float(input(\"Enter a digit=\"))\n",
    "if num1>=num2 and num1>=num3:\n",
    "    print(num1)\n",
    "elif num2>=num1 and num2>=num3:\n",
    "    print(num2)\n",
    "else:\n",
    "    print(num3)"
   ]
  },
  {
   "cell_type": "markdown",
   "metadata": {},
   "source": [
    "**Question 5:** Write a Python program to calculate the factorial of a number."
   ]
  },
  {
   "cell_type": "code",
   "execution_count": 11,
   "metadata": {},
   "outputs": [
    {
     "name": "stdin",
     "output_type": "stream",
     "text": [
      "Enter a number= 5\n"
     ]
    },
    {
     "name": "stdout",
     "output_type": "stream",
     "text": [
      "120\n"
     ]
    }
   ],
   "source": [
    "# Your code here\n",
    "num = int(input(\"Enter a number=\"))\n",
    "fact = 1\n",
    "for i in range(num):\n",
    "    fact *= (i+1)\n",
    "print(fact)"
   ]
  },
  {
   "cell_type": "markdown",
   "metadata": {},
   "source": [
    "## 2. Variables and Data Types\n",
    "\n",
    "**Question 6:** Create variables of different data types: integer, float, string, and boolean. Print their values and types."
   ]
  },
  {
   "cell_type": "code",
   "execution_count": 12,
   "metadata": {},
   "outputs": [
    {
     "name": "stdout",
     "output_type": "stream",
     "text": [
      "10 10.2 String True\n"
     ]
    }
   ],
   "source": [
    "# Your code here\n",
    "val1 = 10\n",
    "val2 = 10.2\n",
    "val3 = \"String\"\n",
    "val4 = True\n",
    "print(val1, val2, val3, val4)"
   ]
  },
  {
   "cell_type": "markdown",
   "metadata": {},
   "source": [
    "**Question 7:** Write a Python program to swap the values of two variables."
   ]
  },
  {
   "cell_type": "code",
   "execution_count": 13,
   "metadata": {},
   "outputs": [
    {
     "name": "stdout",
     "output_type": "stream",
     "text": [
      "20 10\n"
     ]
    }
   ],
   "source": [
    "# Your code here\n",
    "var1 = 10\n",
    "var2 = 20\n",
    "\n",
    "#swap\n",
    "swap = var1\n",
    "var1 = var2\n",
    "var2 = swap\n",
    "print(var1, var2)"
   ]
  },
  {
   "cell_type": "markdown",
   "metadata": {},
   "source": [
    "**Question 8:** Write a Python program to convert Celsius to Fahrenheit."
   ]
  },
  {
   "cell_type": "code",
   "execution_count": 14,
   "metadata": {},
   "outputs": [
    {
     "name": "stdin",
     "output_type": "stream",
     "text": [
      "Enter the temperature =  36.8\n"
     ]
    },
    {
     "name": "stdout",
     "output_type": "stream",
     "text": [
      "Farenheit =  98.24\n"
     ]
    }
   ],
   "source": [
    "# Your code here\n",
    "celsius = float(input(\"Enter the temperature = \"))\n",
    "fahrenheit = (celsius* 9/5)+32\n",
    "print(\"Farenheit = \",fahrenheit)"
   ]
  },
  {
   "cell_type": "markdown",
   "metadata": {},
   "source": [
    "**Question 9:** Write a Python program to concatenate two strings."
   ]
  },
  {
   "cell_type": "code",
   "execution_count": 15,
   "metadata": {},
   "outputs": [
    {
     "name": "stdout",
     "output_type": "stream",
     "text": [
      "HelloBro\n"
     ]
    }
   ],
   "source": [
    "# Your code here\n",
    "str1 = \"Hello\"\n",
    "str2 = \"Bro\"\n",
    "print(str1 + str2)"
   ]
  },
  {
   "cell_type": "markdown",
   "metadata": {},
   "source": [
    "**Question 10:** Write a Python program to check if a variable is of a specific data type."
   ]
  },
  {
   "cell_type": "code",
   "execution_count": 17,
   "metadata": {},
   "outputs": [
    {
     "name": "stdout",
     "output_type": "stream",
     "text": [
      "Float\n"
     ]
    }
   ],
   "source": [
    "# Your code here\n",
    "var = 10.2\n",
    "if isinstance(var, float):\n",
    "    print(\"Float\")\n",
    "else:\n",
    "    print(\"Not Float\")"
   ]
  },
  {
   "cell_type": "markdown",
   "metadata": {},
   "source": [
    "## 3. Basic Operators (Arithmetic, Comparison, Logical)\n",
    "\n",
    "**Question 11:** Write a Python program to perform arithmetic operations: addition, subtraction, multiplication, and division."
   ]
  },
  {
   "cell_type": "code",
   "execution_count": 1,
   "metadata": {},
   "outputs": [
    {
     "name": "stdin",
     "output_type": "stream",
     "text": [
      "Enter first number= 10\n",
      "Enter second number= 7\n"
     ]
    },
    {
     "name": "stdout",
     "output_type": "stream",
     "text": [
      "Addition= 17.0, Subtraction= 3.0, Multiplication = 70.0, Division = 1.4285714285714286\n"
     ]
    }
   ],
   "source": [
    "# Your code here\n",
    "num1 = float(input(\"Enter first number=\"))\n",
    "num2 = float(input(\"Enter second number=\"))\n",
    "add = num1 + num2\n",
    "sub = num1 - num2\n",
    "multi = num1 * num2\n",
    "division = num1 / num2\n",
    "print(f\"Addition= {add}, Subtraction= {sub}, Multiplication = {multi}, Division = {division}\")"
   ]
  },
  {
   "cell_type": "markdown",
   "metadata": {},
   "source": [
    "**Question 12:** Write a Python program to demonstrate comparison operators: equal to, not equal to, greater than, less than."
   ]
  },
  {
   "cell_type": "code",
   "execution_count": 2,
   "metadata": {},
   "outputs": [
    {
     "name": "stdout",
     "output_type": "stream",
     "text": [
      "5 == 3: False\n",
      "5 != 3: True\n",
      "5 > 3: True\n",
      "5 < 3: False\n"
     ]
    }
   ],
   "source": [
    "# Your code here\n",
    "# Solution\n",
    "a = 5\n",
    "b = 3\n",
    "\n",
    "print(f\"{a} == {b}: {a == b}\")\n",
    "print(f\"{a} != {b}: {a != b}\")\n",
    "print(f\"{a} > {b}: {a > b}\")\n",
    "print(f\"{a} < {b}: {a < b}\")"
   ]
  },
  {
   "cell_type": "markdown",
   "metadata": {},
   "source": [
    "**Question 13:** Write a Python program to demonstrate logical operators: and, or, not."
   ]
  },
  {
   "cell_type": "code",
   "execution_count": 4,
   "metadata": {},
   "outputs": [
    {
     "name": "stdout",
     "output_type": "stream",
     "text": [
      "True and False: False\n",
      "True or False: True\n",
      "not True: False\n"
     ]
    }
   ],
   "source": [
    "# Your code here\n",
    "# Solution\n",
    "a = True\n",
    "b = False\n",
    "\n",
    "print(f\"True and False: {a and b}\")\n",
    "print(f\"True or False: {a or b}\")\n",
    "print(f\"not True: {not a}\")"
   ]
  },
  {
   "cell_type": "markdown",
   "metadata": {},
   "source": [
    "**Question 14:** Write a Python program to calculate the square of a number."
   ]
  },
  {
   "cell_type": "code",
   "execution_count": 6,
   "metadata": {},
   "outputs": [
    {
     "name": "stdin",
     "output_type": "stream",
     "text": [
      "Enter a number =  5\n"
     ]
    },
    {
     "name": "stdout",
     "output_type": "stream",
     "text": [
      "Square of the num =  25\n"
     ]
    }
   ],
   "source": [
    "# Your code here\n",
    "num = int(input(\"Enter a number = \"))\n",
    "print(\"Square of the num = \",num**2)"
   ]
  },
  {
   "cell_type": "markdown",
   "metadata": {},
   "source": [
    "**Question 15:** Write a Python program to check if a number is even or odd."
   ]
  },
  {
   "cell_type": "code",
   "execution_count": 9,
   "metadata": {},
   "outputs": [
    {
     "name": "stdin",
     "output_type": "stream",
     "text": [
      "Enter a num =  6\n"
     ]
    },
    {
     "name": "stdout",
     "output_type": "stream",
     "text": [
      "Even\n"
     ]
    }
   ],
   "source": [
    "# Your code here\n",
    "num = int(input(\"Enter a num = \"))\n",
    "if num%2 == 0:\n",
    "    print(\"Even\")\n",
    "else:\n",
    "    print(\"Odd\")"
   ]
  },
  {
   "cell_type": "markdown",
   "metadata": {},
   "source": [
    "**Question 16:** Write a Python program to find the sum of the first n natural numbers."
   ]
  },
  {
   "cell_type": "code",
   "execution_count": 10,
   "metadata": {},
   "outputs": [
    {
     "name": "stdin",
     "output_type": "stream",
     "text": [
      "Enter a num =  6\n"
     ]
    },
    {
     "name": "stdout",
     "output_type": "stream",
     "text": [
      "Sum = 21\n"
     ]
    }
   ],
   "source": [
    "# Your code here\n",
    "num = int(input(\"Enter a num = \"))\n",
    "sum = 0\n",
    "for i in range(num):\n",
    "    sum += (i+1)\n",
    "\n",
    "print(f\"Sum = {sum}\")"
   ]
  },
  {
   "cell_type": "markdown",
   "metadata": {},
   "source": [
    "**Question 17:** Write a Python program to check if a year is a leap year."
   ]
  },
  {
   "cell_type": "code",
   "execution_count": 14,
   "metadata": {},
   "outputs": [
    {
     "name": "stdin",
     "output_type": "stream",
     "text": [
      "Enter a year =  1902\n"
     ]
    },
    {
     "name": "stdout",
     "output_type": "stream",
     "text": [
      "Not Leap Year\n"
     ]
    }
   ],
   "source": [
    "# Your code here\n",
    "year = int(input(\"Enter a year = \"))\n",
    "if (year%4 == 0 and year % 100 != 0) or (year%400 == 0):\n",
    "    print(\"Leap Year\")\n",
    "else:\n",
    "    print(\"Not Leap Year\")"
   ]
  },
  {
   "cell_type": "markdown",
   "metadata": {},
   "source": [
    "**Question 18:** Write a Python program to reverse a string."
   ]
  },
  {
   "cell_type": "code",
   "execution_count": 15,
   "metadata": {},
   "outputs": [
    {
     "name": "stdin",
     "output_type": "stream",
     "text": [
      "Enter a string=  hello\n"
     ]
    },
    {
     "name": "stdout",
     "output_type": "stream",
     "text": [
      "olleh\n"
     ]
    }
   ],
   "source": [
    "# Your code here\n",
    "str1 = input(\"Enter a string= \")\n",
    "print(str1[::-1])"
   ]
  },
  {
   "cell_type": "markdown",
   "metadata": {},
   "source": [
    "**Question 19:** Write a Python program to check if a string is a palindrome."
   ]
  },
  {
   "cell_type": "code",
   "execution_count": 17,
   "metadata": {},
   "outputs": [
    {
     "name": "stdin",
     "output_type": "stream",
     "text": [
      "Enter a string=  owl\n"
     ]
    },
    {
     "name": "stdout",
     "output_type": "stream",
     "text": [
      "Not Plaindrome\n"
     ]
    }
   ],
   "source": [
    "# Your code here\n",
    "str1 = input(\"Enter a string= \")\n",
    "str2 = str1[::-1]\n",
    "if str1 == str2:\n",
    "    print(\"Palindrome\")\n",
    "else:\n",
    "    print(\"Not Plaindrome\")"
   ]
  },
  {
   "cell_type": "markdown",
   "metadata": {},
   "source": [
    "**Question 20:** Write a Python program to sort a list of numbers in ascending order."
   ]
  },
  {
   "cell_type": "code",
   "execution_count": 18,
   "metadata": {},
   "outputs": [
    {
     "name": "stdin",
     "output_type": "stream",
     "text": [
      "Enter number of list=  1 2 99 22 73 12\n"
     ]
    },
    {
     "name": "stdout",
     "output_type": "stream",
     "text": [
      "[1, 2, 12, 22, 73, 99]\n"
     ]
    }
   ],
   "source": [
    "# Your code here\n",
    "num = [int(x) for x in input(\"Enter number of list= \").split()]\n",
    "num.sort()\n",
    "print(num)"
   ]
  },
  {
   "cell_type": "code",
   "execution_count": null,
   "metadata": {},
   "outputs": [],
   "source": []
  }
 ],
 "metadata": {
  "kernelspec": {
   "display_name": "Python 3 (ipykernel)",
   "language": "python",
   "name": "python3"
  },
  "language_info": {
   "codemirror_mode": {
    "name": "ipython",
    "version": 3
   },
   "file_extension": ".py",
   "mimetype": "text/x-python",
   "name": "python",
   "nbconvert_exporter": "python",
   "pygments_lexer": "ipython3",
   "version": "3.12.9"
  }
 },
 "nbformat": 4,
 "nbformat_minor": 4
}
